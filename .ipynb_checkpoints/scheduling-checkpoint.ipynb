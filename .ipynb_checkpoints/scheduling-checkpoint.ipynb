{
 "cells": [
  {
   "cell_type": "markdown",
   "metadata": {},
   "source": [
    "About the number of students per class:\n",
    "Not all classes need to have the same number of students. Classes without enough interest should not run. Students who put these as their top choice should then be punted to a lower level choice class.\n",
    " * The minimum number of students needed for a class to run and the maximum possible per class will be provided. It's best to let these be input variables to your function so that it can be adjusted.\n",
    "\n",
    "\n",
    "About assigning students to classes: \n",
    "\n",
    "You should maximize overall happiness, where happiness is defined as  getting a higher ranked choice. \n",
    "\n",
    "If more students than a class' capacity rank it similarly, put students in the class randomly and the remaining students should be enrolled in their next highest choice. \n",
    "\n",
    "What is tricky is: you are trying to maximize student choices in aggregate (i.e., minimize the sum of all the student choices (#1 being the top choice, but the least number) while also preventing individual students from getting really low choice classes. \n",
    "\n",
    "If a students' top 6 choices are not among a class that runs, flag it as an issue that needs to be handled manually."
   ]
  },
  {
   "cell_type": "markdown",
   "metadata": {},
   "source": [
    "Dynamic Programming: https://www.youtube.com/watch?v=cJ21moQpofY\n",
    "\n",
    "\n",
    "Linear Programming: https://www.youtube.com/watch?v=TYC2XMmFKWE\n",
    "\n",
    "Forum: https://ask.metafilter.com/291896/How-do-I-sort-folks-into-groups-based-on-their-preferences#4228186"
   ]
  },
  {
   "cell_type": "markdown",
   "metadata": {},
   "source": [
    "4 choices for classes\n",
    "\n",
    "10 students per class, min 5 students"
   ]
  },
  {
   "cell_type": "code",
   "execution_count": 7,
   "metadata": {},
   "outputs": [],
   "source": [
    "import random\n",
    "import pandas as pd\n",
    "import numpy as np"
   ]
  },
  {
   "cell_type": "code",
   "execution_count": 11,
   "metadata": {},
   "outputs": [
    {
     "data": {
      "text/plain": [
       "{0: [1, 2, 4],\n",
       " 1: [1, 3, 4],\n",
       " 2: [2, 3, 4],\n",
       " 3: [1, 3, 2],\n",
       " 4: [1, 4, 2],\n",
       " 5: [2, 3, 4],\n",
       " 6: [1, 3, 2],\n",
       " 7: [2, 3, 4],\n",
       " 8: [3, 2, 1],\n",
       " 9: [1, 4, 3],\n",
       " 10: [2, 3, 4],\n",
       " 11: [2, 3, 4],\n",
       " 12: [1, 2, 3],\n",
       " 13: [1, 2, 3],\n",
       " 14: [3, 1, 2],\n",
       " 15: [1, 2, 4],\n",
       " 16: [2, 4, 1],\n",
       " 17: [3, 2, 1],\n",
       " 18: [1, 4, 3],\n",
       " 19: [3, 4, 2],\n",
       " 20: [2, 1, 4],\n",
       " 21: [1, 4, 2],\n",
       " 22: [2, 3, 4],\n",
       " 23: [4, 3, 1],\n",
       " 24: [1, 3, 4],\n",
       " 25: [2, 4, 3],\n",
       " 26: [4, 2, 3],\n",
       " 27: [1, 3, 2],\n",
       " 28: [4, 3, 1],\n",
       " 29: [2, 4, 3],\n",
       " 30: [1, 2, 3],\n",
       " 31: [2, 1, 4],\n",
       " 32: [2, 4, 1],\n",
       " 33: [1, 4, 2],\n",
       " 34: [3, 1, 4],\n",
       " 35: [2, 1, 3],\n",
       " 36: [1, 3, 2],\n",
       " 37: [3, 2, 1],\n",
       " 38: [4, 1, 2],\n",
       " 39: [1, 2, 3]}"
      ]
     },
     "execution_count": 11,
     "metadata": {},
     "output_type": "execute_result"
    }
   ],
   "source": [
    "people"
   ]
  },
  {
   "cell_type": "code",
   "execution_count": 13,
   "metadata": {},
   "outputs": [],
   "source": [
    "def get_choices(p):\n",
    "    choices = []\n",
    "    vals = [1,2,3,4]\n",
    "    if p %3 == 0:\n",
    "            choice = 1\n",
    "            choices.append(choice)\n",
    "            vals.remove(choice)\n",
    "    if p %5 == 0:\n",
    "            choice = 2\n",
    "            choices.append(choice)\n",
    "            vals.remove(choice)\n",
    "    while len(choices)<3:\n",
    "        choice = random.choices(vals)[0]\n",
    "        vals.remove(choice)\n",
    "        choices.append(choice)\n",
    "    return choices\n",
    "\n",
    "people = [[x]+get_choices(x) for x in range(40)]\n",
    "df = pd.DataFrame(people)\n",
    "df.to_csv"
   ]
  },
  {
   "cell_type": "code",
   "execution_count": null,
   "metadata": {},
   "outputs": [],
   "source": [
    "class Scheduling:\n",
    "    def __init__(self):\n",
    "        pass\n",
    "    def first_choice(people):\n",
    "        groups = {}\n",
    "        for name,choices in people.items():\n",
    "            groups[choices[0]] = groups.get(choices[0],[])+[name]\n",
    "        return groups\n",
    "    def lengths(groups):\n",
    "        return [len(x) for x in groups.values()]\n",
    "\n",
    "    def overCapacity(groups):\n",
    "        return [x for x,y in groups.items() if len(y)>10]"
   ]
  },
  {
   "cell_type": "code",
   "execution_count": 3,
   "metadata": {},
   "outputs": [],
   "source": []
  },
  {
   "cell_type": "code",
   "execution_count": 4,
   "metadata": {},
   "outputs": [],
   "source": []
  },
  {
   "cell_type": "code",
   "execution_count": 5,
   "metadata": {},
   "outputs": [],
   "source": [
    "def available(groups,choice):\n",
    "    return len(groups[choice]) <10"
   ]
  },
  {
   "cell_type": "code",
   "execution_count": 6,
   "metadata": {},
   "outputs": [
    {
     "ename": "SyntaxError",
     "evalue": "unexpected EOF while parsing (<ipython-input-6-961933291d05>, line 6)",
     "output_type": "error",
     "traceback": [
      "\u001b[0;36m  File \u001b[0;32m\"<ipython-input-6-961933291d05>\"\u001b[0;36m, line \u001b[0;32m6\u001b[0m\n\u001b[0;31m    \u001b[0m\n\u001b[0m    ^\u001b[0m\n\u001b[0;31mSyntaxError\u001b[0m\u001b[0;31m:\u001b[0m unexpected EOF while parsing\n"
     ]
    }
   ],
   "source": [
    "\n",
    "def second_choice(people,groups):\n",
    "    for group in overCapacity(groups):\n",
    "        nextchoice = 1\n",
    "        for person in groups[group]:\n",
    "            if available(person[nextchoice]):\n",
    "                "
   ]
  },
  {
   "cell_type": "code",
   "execution_count": 48,
   "metadata": {},
   "outputs": [
    {
     "data": {
      "text/plain": [
       "{1: [0, 1, 3, 6, 7, 9, 12, 15, 18, 21, 22, 24, 27, 30, 33, 36, 39],\n",
       " 4: [2, 11, 16, 17, 19, 23, 26, 34, 37, 38],\n",
       " 2: [4, 5, 8, 10, 13, 14, 20, 25, 29, 31, 35],\n",
       " 3: [28, 32]}"
      ]
     },
     "execution_count": 48,
     "metadata": {},
     "output_type": "execute_result"
    }
   ],
   "source": [
    "first_choice(people)"
   ]
  },
  {
   "cell_type": "code",
   "execution_count": 39,
   "metadata": {},
   "outputs": [
    {
     "data": {
      "text/plain": [
       "{0: [1, 3, 4],\n",
       " 1: [1, 4, 3],\n",
       " 2: [3, 4, 1],\n",
       " 3: [1, 2, 4],\n",
       " 4: [1, 2, 3],\n",
       " 5: [3, 2, 1],\n",
       " 6: [1, 3, 4],\n",
       " 7: [2, 1, 3],\n",
       " 8: [3, 2, 1],\n",
       " 9: [1, 3, 2],\n",
       " 10: [3, 2, 4],\n",
       " 11: [4, 3, 1],\n",
       " 12: [1, 4, 2],\n",
       " 13: [4, 2, 1],\n",
       " 14: [1, 4, 3],\n",
       " 15: [1, 4, 3],\n",
       " 16: [4, 1, 3],\n",
       " 17: [2, 1, 3],\n",
       " 18: [1, 3, 4],\n",
       " 19: [3, 2, 1],\n",
       " 20: [2, 3, 1],\n",
       " 21: [1, 3, 2],\n",
       " 22: [4, 3, 1],\n",
       " 23: [1, 4, 3],\n",
       " 24: [1, 3, 4],\n",
       " 25: [1, 2, 4],\n",
       " 26: [3, 1, 4],\n",
       " 27: [1, 3, 4],\n",
       " 28: [3, 1, 2],\n",
       " 29: [4, 3, 2]}"
      ]
     },
     "execution_count": 39,
     "metadata": {},
     "output_type": "execute_result"
    }
   ],
   "source": [
    "max"
   ]
  },
  {
   "cell_type": "code",
   "execution_count": null,
   "metadata": {},
   "outputs": [],
   "source": []
  }
 ],
 "metadata": {
  "kernelspec": {
   "display_name": "Python 3",
   "language": "python",
   "name": "python3"
  },
  "language_info": {
   "codemirror_mode": {
    "name": "ipython",
    "version": 3
   },
   "file_extension": ".py",
   "mimetype": "text/x-python",
   "name": "python",
   "nbconvert_exporter": "python",
   "pygments_lexer": "ipython3",
   "version": "3.8.4"
  }
 },
 "nbformat": 4,
 "nbformat_minor": 4
}
